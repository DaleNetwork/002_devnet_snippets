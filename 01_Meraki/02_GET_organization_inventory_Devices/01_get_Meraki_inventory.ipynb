{
 "cells": [
  {
   "cell_type": "code",
   "execution_count": 10,
   "metadata": {},
   "outputs": [
    {
     "name": "stdout",
     "output_type": "stream",
     "text": [
      "type(org_list): <class 'list'>\n",
      "========== org_list ==========\n",
      "[{'id': '681155', 'name': 'DeLab', 'url': 'https://n392.meraki.com/o/49Gm_c/manage/organization/overview'}, {'id': '575334852396583536', 'name': 'TNF - The Network Factory', 'url': 'https://n22.meraki.com/o/K5Faybw/manage/organization/overview'}, {'id': '573083052582914605', 'name': 'Jacks_test_net', 'url': 'https://n18.meraki.com/o/22Uqhas/manage/organization/overview'}, {'id': '549236', 'name': 'DevNet Sandbox', 'url': 'https://n149.meraki.com/o/-t35Mb/manage/organization/overview'}, {'id': '575334852396583264', 'name': 'My organization', 'url': 'https://n22.meraki.com/o/aLMnNaw/manage/organization/overview'}, {'id': '575334852396583237', 'name': 'Xirg', 'url': 'https://n22.meraki.com/o/ZF92zcw/manage/organization/overview'}, {'id': '575334852396583213', 'name': '\"New Network\"', 'url': 'https://n22.meraki.com/o/IJQKjbw/manage/organization/overview'}, {'id': '573083052582914233', 'name': 'Test_org', 'url': 'https://n18.meraki.com/o/TY6awbs/manage/organization/overview'}, {'id': '575334852396583197', 'name': 'The New Org', 'url': 'https://n22.meraki.com/o/wXe-Faw/manage/organization/overview'}, {'id': '575334852396583158', 'name': 'Testlab', 'url': 'https://n22.meraki.com/o/AvGDGdw/manage/organization/overview'}, {'id': '575334852396583134', 'name': 'Wotan', 'url': 'https://n22.meraki.com/o/U3paXbw/manage/organization/overview'}, {'id': '575334852396583133', 'name': 'test-test', 'url': 'https://n22.meraki.com/o/NBowlcw/manage/organization/overview'}, {'id': '575334852396583131', 'name': 'thienbao', 'url': 'https://n22.meraki.com/o/dADP-cw/manage/organization/overview'}, {'id': '575334852396583128', 'name': 'trungheo', 'url': 'https://n22.meraki.com/o/XjvDBcw/manage/organization/overview'}, {'id': '575334852396583093', 'name': 'The Org', 'url': 'https://n22.meraki.com/o/yotmJcw/manage/organization/overview'}, {'id': '575334852396583071', 'name': 'PM_Test', 'url': 'https://n22.meraki.com/o/lUmuUdw/manage/organization/overview'}, {'id': '575334852396583051', 'name': 'trung', 'url': 'https://n22.meraki.com/o/4lFkacw/manage/organization/overview'}, {'id': '575334852396583031', 'name': 'My organization', 'url': 'https://n22.meraki.com/o/N1e3qdw/manage/organization/overview'}, {'id': '575334852396582986', 'name': 'DevNet Test Org', 'url': 'https://n22.meraki.com/o/yZVJIcw/manage/organization/overview'}, {'id': '575334852396582973', 'name': 'DevNet Test Org', 'url': 'https://n22.meraki.com/o/4ApTKbw/manage/organization/overview'}, {'id': '575334852396582756', 'name': 'Personal.Lekhnath', 'url': 'https://n22.meraki.com/o/HjSXiaw/manage/organization/overview'}, {'id': '575334852396582755', 'name': 'My organization', 'url': 'https://n22.meraki.com/o/LwDcydw/manage/organization/overview'}, {'id': '575334852396582738', 'name': 'My organization', 'url': 'https://n22.meraki.com/o/wzbgjbw/manage/organization/overview'}, {'id': '575334852396582684', 'name': 'SVR', 'url': 'https://n22.meraki.com/o/rMNradw/manage/organization/overview'}, {'id': '566327653141842188', 'name': 'DevNetAssoc', 'url': 'https://n6.meraki.com/o/dcGsWag/manage/organization/overview'}, {'id': '575334852396582591', 'name': 'Ftreqah organization', 'url': 'https://n22.meraki.com/o/Kpj8kdw/manage/organization/overview'}, {'id': '52636', 'name': 'Forest City - Other', 'url': 'https://n42.meraki.com/o/E_utnd/manage/organization/overview'}, {'id': '865776', 'name': 'Cisco Live US 2019', 'url': 'https://n22.meraki.com/o/CVQqTb/manage/organization/overview'}, {'id': '463308', 'name': 'dev ', 'url': 'https://n18.meraki.com/o/vB2D8a/manage/organization/overview'}]\n",
      "==============================\n",
      "{'id': '681155', 'name': 'DeLab', 'url': 'https://n392.meraki.com/o/49Gm_c/manage/organization/overview'}\n",
      "{'id': '575334852396583536', 'name': 'TNF - The Network Factory', 'url': 'https://n22.meraki.com/o/K5Faybw/manage/organization/overview'}\n",
      "{'id': '573083052582914605', 'name': 'Jacks_test_net', 'url': 'https://n18.meraki.com/o/22Uqhas/manage/organization/overview'}\n",
      "{'id': '549236', 'name': 'DevNet Sandbox', 'url': 'https://n149.meraki.com/o/-t35Mb/manage/organization/overview'}\n",
      "{'id': '575334852396583264', 'name': 'My organization', 'url': 'https://n22.meraki.com/o/aLMnNaw/manage/organization/overview'}\n",
      "{'id': '575334852396583237', 'name': 'Xirg', 'url': 'https://n22.meraki.com/o/ZF92zcw/manage/organization/overview'}\n",
      "{'id': '575334852396583213', 'name': '\"New Network\"', 'url': 'https://n22.meraki.com/o/IJQKjbw/manage/organization/overview'}\n",
      "{'id': '573083052582914233', 'name': 'Test_org', 'url': 'https://n18.meraki.com/o/TY6awbs/manage/organization/overview'}\n",
      "{'id': '575334852396583197', 'name': 'The New Org', 'url': 'https://n22.meraki.com/o/wXe-Faw/manage/organization/overview'}\n",
      "{'id': '575334852396583158', 'name': 'Testlab', 'url': 'https://n22.meraki.com/o/AvGDGdw/manage/organization/overview'}\n",
      "{'id': '575334852396583134', 'name': 'Wotan', 'url': 'https://n22.meraki.com/o/U3paXbw/manage/organization/overview'}\n",
      "{'id': '575334852396583133', 'name': 'test-test', 'url': 'https://n22.meraki.com/o/NBowlcw/manage/organization/overview'}\n",
      "{'id': '575334852396583131', 'name': 'thienbao', 'url': 'https://n22.meraki.com/o/dADP-cw/manage/organization/overview'}\n",
      "{'id': '575334852396583128', 'name': 'trungheo', 'url': 'https://n22.meraki.com/o/XjvDBcw/manage/organization/overview'}\n",
      "{'id': '575334852396583093', 'name': 'The Org', 'url': 'https://n22.meraki.com/o/yotmJcw/manage/organization/overview'}\n",
      "{'id': '575334852396583071', 'name': 'PM_Test', 'url': 'https://n22.meraki.com/o/lUmuUdw/manage/organization/overview'}\n",
      "{'id': '575334852396583051', 'name': 'trung', 'url': 'https://n22.meraki.com/o/4lFkacw/manage/organization/overview'}\n",
      "{'id': '575334852396583031', 'name': 'My organization', 'url': 'https://n22.meraki.com/o/N1e3qdw/manage/organization/overview'}\n",
      "{'id': '575334852396582986', 'name': 'DevNet Test Org', 'url': 'https://n22.meraki.com/o/yZVJIcw/manage/organization/overview'}\n",
      "{'id': '575334852396582973', 'name': 'DevNet Test Org', 'url': 'https://n22.meraki.com/o/4ApTKbw/manage/organization/overview'}\n",
      "{'id': '575334852396582756', 'name': 'Personal.Lekhnath', 'url': 'https://n22.meraki.com/o/HjSXiaw/manage/organization/overview'}\n",
      "{'id': '575334852396582755', 'name': 'My organization', 'url': 'https://n22.meraki.com/o/LwDcydw/manage/organization/overview'}\n",
      "{'id': '575334852396582738', 'name': 'My organization', 'url': 'https://n22.meraki.com/o/wzbgjbw/manage/organization/overview'}\n",
      "{'id': '575334852396582684', 'name': 'SVR', 'url': 'https://n22.meraki.com/o/rMNradw/manage/organization/overview'}\n",
      "{'id': '566327653141842188', 'name': 'DevNetAssoc', 'url': 'https://n6.meraki.com/o/dcGsWag/manage/organization/overview'}\n",
      "{'id': '575334852396582591', 'name': 'Ftreqah organization', 'url': 'https://n22.meraki.com/o/Kpj8kdw/manage/organization/overview'}\n",
      "{'id': '52636', 'name': 'Forest City - Other', 'url': 'https://n42.meraki.com/o/E_utnd/manage/organization/overview'}\n",
      "{'id': '865776', 'name': 'Cisco Live US 2019', 'url': 'https://n22.meraki.com/o/CVQqTb/manage/organization/overview'}\n",
      "{'id': '463308', 'name': 'dev ', 'url': 'https://n18.meraki.com/o/vB2D8a/manage/organization/overview'}\n",
      "org_id= 549236\n"
     ]
    }
   ],
   "source": [
    "import requests\n",
    "\n",
    "#reference Docs: https://developer.cisco.com/meraki/api-v1/#!get-device\n",
    "\n",
    "# Step1. Retrieves an organization's ID from Meraki dashboard API based on orgznization name\n",
    "def get_org_id(url, headers, name):\n",
    "    org_list = requests.get(url + '/api/v0/organizations', headers = headers).json() \n",
    "    print(\"type(org_list):\", type(org_list))\n",
    "    print(\"=\"*10, \"org_list\", \"=\"*10)\n",
    "    print(org_list)\n",
    "    print(\"=\"*30)\n",
    "    for org in org_list:\n",
    "        print(org)\n",
    "    for org in org_list:\n",
    "        if org['name'] == name:\n",
    "            print(\"org_id=\",org[\"id\"])\n",
    "            return org['id']\n",
    "\n",
    "# Step 2. retrieves organization inventory based on ID\n",
    "def get_inventory(url, headers, org_id):\n",
    "    inventory_list = requests.get(url + '/api/v0/organizations/' + org_id + '/inventory', \n",
    "                              headers = headers).json()\n",
    "    return inventory_list\n",
    "\n",
    "myheaders = { 'X-Cisco-Meraki-API-Key': \"6bec40cf957de430a6f1f2baa056b99a4fac9ea0\"}\n",
    "base_url = 'https://api.meraki.com'\n",
    "org_name = 'DevNet Sandbox'\n",
    "\n",
    "org_id = get_org_id(base_url, myheaders , org_name)\n",
    "\n",
    "inventory_list = get_inventory(base_url, myheaders, org_id)\n",
    "\n",
    "# Step 3. print out the inventory list and write it to a file named inventory_list.txt with\n",
    "# one item per line\n",
    "\n",
    "# pprint.pprint(inventory_list)\n",
    "# with open('inventory_list.txt', 'w') as f:\n",
    "#     for item in inventory_list:\n",
    "#         print(str(item))\n",
    "#         f.write(str(item))\n",
    "#         f.write('\\n')\n"
   ]
  },
  {
   "cell_type": "code",
   "execution_count": 2,
   "metadata": {},
   "outputs": [
    {
     "ename": "NameError",
     "evalue": "name 'org_list' is not defined",
     "output_type": "error",
     "traceback": [
      "\u001b[1;31m---------------------------------------------------------------------------\u001b[0m",
      "\u001b[1;31mNameError\u001b[0m                                 Traceback (most recent call last)",
      "\u001b[1;32m~\\AppData\\Local\\Temp/ipykernel_7028/2165610159.py\u001b[0m in \u001b[0;36m<module>\u001b[1;34m\u001b[0m\n\u001b[1;32m----> 1\u001b[1;33m \u001b[0mprint\u001b[0m\u001b[1;33m(\u001b[0m\u001b[0morg_list\u001b[0m\u001b[1;33m)\u001b[0m\u001b[1;33m\u001b[0m\u001b[1;33m\u001b[0m\u001b[0m\n\u001b[0m",
      "\u001b[1;31mNameError\u001b[0m: name 'org_list' is not defined"
     ]
    }
   ],
   "source": [
    "print(org_list)"
   ]
  }
 ],
 "metadata": {
  "interpreter": {
   "hash": "b3ba2566441a7c06988d0923437866b63cedc61552a5af99d1f4fb67d367b25f"
  },
  "kernelspec": {
   "display_name": "Python 3.8.11 64-bit ('base': conda)",
   "name": "python3"
  },
  "language_info": {
   "codemirror_mode": {
    "name": "ipython",
    "version": 3
   },
   "file_extension": ".py",
   "mimetype": "text/x-python",
   "name": "python",
   "nbconvert_exporter": "python",
   "pygments_lexer": "ipython3",
   "version": "3.8.11"
  },
  "orig_nbformat": 4
 },
 "nbformat": 4,
 "nbformat_minor": 2
}
