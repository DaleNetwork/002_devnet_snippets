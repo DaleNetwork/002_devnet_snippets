{
 "cells": [
  {
   "cell_type": "code",
   "execution_count": 7,
   "metadata": {},
   "outputs": [
    {
     "name": "stdout",
     "output_type": "stream",
     "text": [
      "========== Device =  core-rtr01 ==========\n",
      "{\n",
      "  \"tailf-ncs:platform\": {\n",
      "    \"name\": \"ios-xr\",\n",
      "    \"version\": \"6.3.1\",\n",
      "    \"model\": \"IOS XRv\",\n",
      "    \"serial-number\": \"N/A\"\n",
      "  }\n",
      "}\n",
      "\n",
      "========== Device =  dist-sw01 ==========\n",
      "{\n",
      "  \"tailf-ncs:platform\": {\n",
      "    \"name\": \"NX-OS\",\n",
      "    \"version\": \"9.2(3)\",\n",
      "    \"model\": \"cisco Nexus9000 9000v Chassis \",\n",
      "    \"serial-number\": \"94902154C5V\"\n",
      "  }\n",
      "}\n",
      "\n",
      "========== Device =  dist-rtr02 ==========\n",
      "{\n",
      "  \"tailf-ncs:platform\": {\n",
      "    \"name\": \"ios-xe\",\n",
      "    \"version\": \"16.11.1b\",\n",
      "    \"model\": \"CSR1000V\",\n",
      "    \"serial-number\": \"9L07W60CCAO\"\n",
      "  }\n",
      "}\n",
      "\n",
      "========== Device =  dist-rtr01 ==========\n",
      "{\n",
      "  \"tailf-ncs:platform\": {\n",
      "    \"name\": \"ios-xe\",\n",
      "    \"version\": \"16.11.1b\",\n",
      "    \"model\": \"CSR1000V\",\n",
      "    \"serial-number\": \"9KAD9VHZ4B9\"\n",
      "  }\n",
      "}\n",
      "\n",
      "========== Device =  core-rtr02 ==========\n",
      "{\n",
      "  \"tailf-ncs:platform\": {\n",
      "    \"name\": \"ios-xr\",\n",
      "    \"version\": \"6.3.1\",\n",
      "    \"model\": \"IOS XRv\",\n",
      "    \"serial-number\": \"N/A\"\n",
      "  }\n",
      "}\n",
      "\n"
     ]
    }
   ],
   "source": [
    "import requests\n",
    "\n",
    "base_url = 'https://sandbox-nso-1.cisco.com'\n",
    "username = 'developer'\n",
    "password = 'Services4Ever'\n",
    "\n",
    "# Use self signed certs\n",
    "requests.packages.urllib3.disable_warnings()\n",
    "\n",
    "# reference the API Docs\n",
    "# https://developer.cisco.com/docs/nso/#!view-ios-xr-device-config-single-device-hw-sw-platform-info\n",
    "\n",
    "devices = [\"core-rtr01\", \"dist-sw01\", \"dist-rtr02\", \"dist-rtr01\", \"core-rtr02\"]\n",
    "\n",
    "payload = None\n",
    "headers = { \"Accept\": \"application/yang-data+json\" }\n",
    "\n",
    "for device in devices: \n",
    "    print(\"=\"*10,\"Device = \", device,\"=\"*10)\n",
    "    get_platform_info_url = base_url + '/restconf/data/tailf-ncs:devices/device=' + device +'/platform'\n",
    "    response = requests.request('GET', get_platform_info_url,\n",
    "                        headers = headers,\n",
    "                        auth = (username, password),\n",
    "                        data = payload,\n",
    "                        verify = False)\n",
    "    print(response.text)\n"
   ]
  },
  {
   "cell_type": "code",
   "execution_count": 3,
   "metadata": {},
   "outputs": [
    {
     "name": "stdout",
     "output_type": "stream",
     "text": [
      "https:sandbox-nso-1.cisco.com/restconf/data/tailf-ncs:devices/device=core-rtr01/platform\n"
     ]
    }
   ],
   "source": [
    "print(get_platform_info_url)"
   ]
  }
 ],
 "metadata": {
  "interpreter": {
   "hash": "b3ba2566441a7c06988d0923437866b63cedc61552a5af99d1f4fb67d367b25f"
  },
  "kernelspec": {
   "display_name": "Python 3.8.11 64-bit ('base': conda)",
   "name": "python3"
  },
  "language_info": {
   "codemirror_mode": {
    "name": "ipython",
    "version": 3
   },
   "file_extension": ".py",
   "mimetype": "text/x-python",
   "name": "python",
   "nbconvert_exporter": "python",
   "pygments_lexer": "ipython3",
   "version": "3.8.11"
  },
  "orig_nbformat": 4
 },
 "nbformat": 4,
 "nbformat_minor": 2
}
