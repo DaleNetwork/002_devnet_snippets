{
 "cells": [
  {
   "cell_type": "code",
   "execution_count": 1,
   "metadata": {},
   "outputs": [
    {
     "ename": "ValueError",
     "evalue": "Unsupported 'device_type' currently supported platforms are: \na10\naccedian\nadtran_os\nalcatel_aos\nalcatel_sros\nallied_telesis_awplus\napresia_aeos\narista_eos\naruba_os\naruba_osswitch\naruba_procurve\navaya_ers\navaya_vsp\nbroadcom_icos\nbrocade_fastiron\nbrocade_fos\nbrocade_netiron\nbrocade_nos\nbrocade_vdx\nbrocade_vyos\ncalix_b6\ncdot_cros\ncentec_os\ncheckpoint_gaia\nciena_saos\ncisco_asa\ncisco_ftd\ncisco_ios\ncisco_nxos\ncisco_s300\ncisco_tp\ncisco_wlc\ncisco_xe\ncisco_xr\ncloudgenix_ion\ncoriant\ndell_dnos9\ndell_force10\ndell_isilon\ndell_os10\ndell_os6\ndell_os9\ndell_powerconnect\ndlink_ds\neltex\neltex_esr\nendace\nenterasys\nericsson_ipos\nextreme\nextreme_ers\nextreme_exos\nextreme_netiron\nextreme_nos\nextreme_slx\nextreme_vdx\nextreme_vsp\nextreme_wing\nf5_linux\nf5_ltm\nf5_tmsh\nflexvnf\nfortinet\ngeneric\ngeneric_termserver\nhp_comware\nhp_procurve\nhuawei\nhuawei_olt\nhuawei_smartax\nhuawei_vrpv8\nipinfusion_ocnos\njuniper\njuniper_junos\njuniper_screenos\nkeymile\nkeymile_nos\nlinux\nmellanox\nmellanox_mlnxos\nmikrotik_routeros\nmikrotik_switchos\nmrv_lx\nmrv_optiswitch\nnetapp_cdot\nnetgear_prosafe\nnetscaler\nnokia_sros\noneaccess_oneos\novs_linux\npaloalto_panos\npluribus\nquanta_mesh\nrad_etx\nraisecom_roap\nruckus_fastiron\nruijie_os\nsixwind_os\nsophos_sfos\nsupermicro_smis\ntplink_jetstream\nubiquiti_edge\nubiquiti_edgerouter\nubiquiti_edgeswitch\nubiquiti_unifiswitch\nvyatta_vyos\nvyos\nwatchguard_fireware\nyamaha\nzte_zxros",
     "output_type": "error",
     "traceback": [
      "\u001b[0;31m---------------------------------------------------------------------------\u001b[0m",
      "\u001b[0;31mValueError\u001b[0m                                Traceback (most recent call last)",
      "\u001b[0;32m/tmp/ipykernel_7538/4289459875.py\u001b[0m in \u001b[0;36m<module>\u001b[0;34m\u001b[0m\n\u001b[1;32m     18\u001b[0m     \u001b[0;31m# \"password\": getpass(),\u001b[0m\u001b[0;34m\u001b[0m\u001b[0;34m\u001b[0m\u001b[0;34m\u001b[0m\u001b[0m\n\u001b[1;32m     19\u001b[0m     }\n\u001b[0;32m---> 20\u001b[0;31m \u001b[0mnet_connect\u001b[0m \u001b[0;34m=\u001b[0m \u001b[0mConnectHandler\u001b[0m\u001b[0;34m(\u001b[0m\u001b[0;34m**\u001b[0m\u001b[0mcisco1\u001b[0m\u001b[0;34m)\u001b[0m\u001b[0;34m\u001b[0m\u001b[0;34m\u001b[0m\u001b[0m\n\u001b[0m\u001b[1;32m     21\u001b[0m \u001b[0mnet_connect\u001b[0m\u001b[0;34m.\u001b[0m\u001b[0mdisconnect\u001b[0m\u001b[0;34m(\u001b[0m\u001b[0;34m)\u001b[0m\u001b[0;34m\u001b[0m\u001b[0;34m\u001b[0m\u001b[0m\n",
      "\u001b[0;32m~/.local/lib/python3.8/site-packages/netmiko/ssh_dispatcher.py\u001b[0m in \u001b[0;36mConnectHandler\u001b[0;34m(*args, **kwargs)\u001b[0m\n\u001b[1;32m    319\u001b[0m         \u001b[0;32melse\u001b[0m\u001b[0;34m:\u001b[0m\u001b[0;34m\u001b[0m\u001b[0;34m\u001b[0m\u001b[0m\n\u001b[1;32m    320\u001b[0m             \u001b[0mmsg_str\u001b[0m \u001b[0;34m=\u001b[0m \u001b[0mtelnet_platforms_str\u001b[0m \u001b[0;32mif\u001b[0m \u001b[0;34m\"telnet\"\u001b[0m \u001b[0;32min\u001b[0m \u001b[0mdevice_type\u001b[0m \u001b[0;32melse\u001b[0m \u001b[0mplatforms_str\u001b[0m\u001b[0;34m\u001b[0m\u001b[0;34m\u001b[0m\u001b[0m\n\u001b[0;32m--> 321\u001b[0;31m         raise ValueError(\n\u001b[0m\u001b[1;32m    322\u001b[0m             \u001b[0;34m\"Unsupported 'device_type' \"\u001b[0m\u001b[0;34m\u001b[0m\u001b[0;34m\u001b[0m\u001b[0m\n\u001b[1;32m    323\u001b[0m             \u001b[0;34m\"currently supported platforms are: {}\"\u001b[0m\u001b[0;34m.\u001b[0m\u001b[0mformat\u001b[0m\u001b[0;34m(\u001b[0m\u001b[0mmsg_str\u001b[0m\u001b[0;34m)\u001b[0m\u001b[0;34m\u001b[0m\u001b[0;34m\u001b[0m\u001b[0m\n",
      "\u001b[0;31mValueError\u001b[0m: Unsupported 'device_type' currently supported platforms are: \na10\naccedian\nadtran_os\nalcatel_aos\nalcatel_sros\nallied_telesis_awplus\napresia_aeos\narista_eos\naruba_os\naruba_osswitch\naruba_procurve\navaya_ers\navaya_vsp\nbroadcom_icos\nbrocade_fastiron\nbrocade_fos\nbrocade_netiron\nbrocade_nos\nbrocade_vdx\nbrocade_vyos\ncalix_b6\ncdot_cros\ncentec_os\ncheckpoint_gaia\nciena_saos\ncisco_asa\ncisco_ftd\ncisco_ios\ncisco_nxos\ncisco_s300\ncisco_tp\ncisco_wlc\ncisco_xe\ncisco_xr\ncloudgenix_ion\ncoriant\ndell_dnos9\ndell_force10\ndell_isilon\ndell_os10\ndell_os6\ndell_os9\ndell_powerconnect\ndlink_ds\neltex\neltex_esr\nendace\nenterasys\nericsson_ipos\nextreme\nextreme_ers\nextreme_exos\nextreme_netiron\nextreme_nos\nextreme_slx\nextreme_vdx\nextreme_vsp\nextreme_wing\nf5_linux\nf5_ltm\nf5_tmsh\nflexvnf\nfortinet\ngeneric\ngeneric_termserver\nhp_comware\nhp_procurve\nhuawei\nhuawei_olt\nhuawei_smartax\nhuawei_vrpv8\nipinfusion_ocnos\njuniper\njuniper_junos\njuniper_screenos\nkeymile\nkeymile_nos\nlinux\nmellanox\nmellanox_mlnxos\nmikrotik_routeros\nmikrotik_switchos\nmrv_lx\nmrv_optiswitch\nnetapp_cdot\nnetgear_prosafe\nnetscaler\nnokia_sros\noneaccess_oneos\novs_linux\npaloalto_panos\npluribus\nquanta_mesh\nrad_etx\nraisecom_roap\nruckus_fastiron\nruijie_os\nsixwind_os\nsophos_sfos\nsupermicro_smis\ntplink_jetstream\nubiquiti_edge\nubiquiti_edgerouter\nubiquiti_edgeswitch\nubiquiti_unifiswitch\nvyatta_vyos\nvyos\nwatchguard_fireware\nyamaha\nzte_zxros"
     ]
    }
   ],
   "source": [
    "# CSR1000v Host: sandbox-iosxe-latest-1.cisco.com\n",
    "# SSH Port: 22    NETCONF Port: 830    gRPC Telemetry Port: 57500   RESTCONF Port: 443 (HTTPS)    \n",
    "# Username: developer  Password: C1sco12345\n",
    "# https://devnetsandbox.cisco.com/RM/Diagram/Index/7b4d4209-a17c-4bc3-9b38-f15184e53a94?diagramType=Topology\n",
    "#\n",
    "# Doc: github.com/ktbyers/netmiko/blob/develop/EXAMPLES.md\n",
    "# \n",
    "from netmiko import ConnectHandler\n",
    "\n",
    "# from getpass import getpass\n",
    "\n",
    "# just pick an \"invalid\" device_type\n",
    "cisco1 = {\n",
    "    \"device_type\": \"invalid\",    #adfsdf,\n",
    "    \"host\": \"sandbox-iosxe-latest-1.cisco.com\",\n",
    "    \"username\": \"developer\",\n",
    "    \"password\": \"C1sco12345\",\n",
    "    # \"password\": getpass(),\n",
    "    }\n",
    "net_connect = ConnectHandler(**cisco1)\n",
    "net_connect.disconnect()\n"
   ]
  }
 ],
 "metadata": {
  "interpreter": {
   "hash": "916dbcbb3f70747c44a77c7bcd40155683ae19c65e1c03b4aa3499c5328201f1"
  },
  "kernelspec": {
   "display_name": "Python 3.8.10 64-bit",
   "language": "python",
   "name": "python3"
  },
  "language_info": {
   "codemirror_mode": {
    "name": "ipython",
    "version": 3
   },
   "file_extension": ".py",
   "mimetype": "text/x-python",
   "name": "python",
   "nbconvert_exporter": "python",
   "pygments_lexer": "ipython3",
   "version": "3.8.10"
  },
  "orig_nbformat": 4
 },
 "nbformat": 4,
 "nbformat_minor": 2
}
