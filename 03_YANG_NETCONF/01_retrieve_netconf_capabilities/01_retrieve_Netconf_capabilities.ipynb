{
 "cells": [
  {
   "cell_type": "code",
   "execution_count": 6,
   "metadata": {},
   "outputs": [
    {
     "name": "stdout",
     "output_type": "stream",
     "text": [
      "\n",
      "***NETCONF Capabilities for device sandbox-nxos-1.cisco.com***\n",
      "\n",
      "urn:ietf:params:netconf:base:1.0\n",
      "urn:ietf:params:netconf:base:1.1\n",
      "urn:ietf:params:netconf:capability:writable-running:1.0\n",
      "urn:ietf:params:netconf:capability:rollback-on-error:1.0\n",
      "urn:ietf:params:netconf:capability:candidate:1.0\n",
      "urn:ietf:params:netconf:capability:validate:1.1\n",
      "urn:ietf:params:netconf:capability:confirmed-commit:1.1\n",
      "urn:ietf:params:netconf:capability:notification:1.0\n",
      "urn:ietf:params:netconf:capability:interleave:1.0\n",
      "urn:ietf:params:netconf:capability:with-defaults:1.0?basic-mode=report-all\n",
      "http://cisco.com/ns/yang/cisco-nx-os-device?revision=2019-12-22&module=Cisco-NX-OS-device\n",
      "http://openconfig.net/yang/acl?revision=2017-05-26&module=openconfig-acl&deviations=cisco-nx-openconfig-acl-deviations\n",
      "http://openconfig.net/yang/bgp-policy?revision=2017-07-30&module=openconfig-bgp-policy&deviations=cisco-nx-openconfig-bgp-policy-deviations\n",
      "http://openconfig.net/yang/interfaces?revision=2017-07-14&module=openconfig-interfaces&deviations=cisco-nx-openconfig-interfaces-deviations\n",
      "http://openconfig.net/yang/interfaces/aggregate?revision=2017-07-14&module=openconfig-if-aggregate&deviations=cisco-nx-openconfig-if-aggregate-deviations\n",
      "http://openconfig.net/yang/interfaces/ethernet?revision=2017-07-14&module=openconfig-if-ethernet&deviations=cisco-nx-openconfig-if-ethernet-deviations\n",
      "http://openconfig.net/yang/interfaces/ip?revision=2018-01-05&module=openconfig-if-ip&deviations=cisco-nx-openconfig-if-ip-deviations\n",
      "http://openconfig.net/yang/interfaces/ip-ext?revision=2018-01-05&module=openconfig-if-ip-ext&deviations=cisco-nx-openconfig-if-ip-ext-deviations\n",
      "http://openconfig.net/yang/lacp?revision=2016-05-26&module=openconfig-lacp&deviations=cisco-nx-openconfig-lacp-deviations\n",
      "http://openconfig.net/yang/lldp?revision=2018-11-21&module=openconfig-lldp&deviations=cisco-nx-openconfig-lldp-deviations\n",
      "http://openconfig.net/yang/network-instance?revision=2018-11-21&module=openconfig-network-instance&deviations=cisco-nx-openconfig-network-instance-deviations\n",
      "http://openconfig.net/yang/network-instance/policy?revision=2018-11-21&module=openconfig-network-instance-policy&deviations=cisco-nx-openconfig-network-instance-policy-deviations\n",
      "http://openconfig.net/yang/ospf-policy?revision=2017-08-24&module=openconfig-ospf-policy&deviations=cisco-nx-openconfig-ospf-policy-deviations\n",
      "http://openconfig.net/yang/platform?revision=2019-04-16&module=openconfig-platform&deviations=cisco-nx-openconfig-platform-deviations\n",
      "http://openconfig.net/yang/platform/cpu?revision=2018-11-21&module=openconfig-platform-cpu&deviations=cisco-nx-openconfig-platform-cpu-deviations\n",
      "http://openconfig.net/yang/platform/fan?revision=2018-11-21&module=openconfig-platform-fan&deviations=cisco-nx-openconfig-platform-fan-deviations\n",
      "http://openconfig.net/yang/platform/linecard?revision=2018-11-21&module=openconfig-platform-linecard&deviations=cisco-nx-openconfig-platform-linecard-deviations\n",
      "http://openconfig.net/yang/platform/port?revision=2018-11-21&module=openconfig-platform-port&deviations=cisco-nx-openconfig-platform-port-deviations\n",
      "http://openconfig.net/yang/platform/psu?revision=2018-11-21&module=openconfig-platform-psu&deviations=cisco-nx-openconfig-platform-psu-deviations\n",
      "http://openconfig.net/yang/platform/transceiver?revision=2018-11-25&module=openconfig-platform-transceiver&deviations=cisco-nx-openconfig-platform-transceiver-deviations\n",
      "http://openconfig.net/yang/relay-agent?revision=2016-05-16&module=openconfig-relay-agent&deviations=cisco-nx-openconfig-relay-agent-deviations\n",
      "http://openconfig.net/yang/routing-policy?revision=2016-05-12&module=openconfig-routing-policy&deviations=cisco-nx-openconfig-routing-policy-deviations\n",
      "http://openconfig.net/yang/spanning-tree?revision=2017-07-14&module=openconfig-spanning-tree&deviations=cisco-nx-openconfig-spanning-tree-deviations\n",
      "http://openconfig.net/yang/system?revision=2017-09-18&module=openconfig-system&deviations=cisco-nx-openconfig-system-deviations\n",
      "http://openconfig.net/yang/telemetry?revision=2018-11-21&module=openconfig-telemetry&deviations=cisco-nx-openconfig-telemetry-deviations\n",
      "http://openconfig.net/yang/vlan?revision=2018-11-21&module=openconfig-vlan&deviations=cisco-nx-openconfig-vlan-deviations\n"
     ]
    },
    {
     "ename": "SessionCloseError",
     "evalue": "Unexpected session close",
     "output_type": "error",
     "traceback": [
      "\u001b[1;31m---------------------------------------------------------------------------\u001b[0m",
      "\u001b[1;31mSessionCloseError\u001b[0m                         Traceback (most recent call last)",
      "\u001b[1;32m~\\AppData\\Local\\Temp/ipykernel_23372/2435468955.py\u001b[0m in \u001b[0;36m<module>\u001b[1;34m\u001b[0m\n\u001b[0;32m     35\u001b[0m \u001b[1;33m\u001b[0m\u001b[0m\n\u001b[0;32m     36\u001b[0m \u001b[1;32mif\u001b[0m \u001b[0m__name__\u001b[0m \u001b[1;33m==\u001b[0m \u001b[1;34m\"__main__\"\u001b[0m\u001b[1;33m:\u001b[0m\u001b[1;33m\u001b[0m\u001b[1;33m\u001b[0m\u001b[0m\n\u001b[1;32m---> 37\u001b[1;33m     \u001b[0mget_capabilities\u001b[0m\u001b[1;33m(\u001b[0m\u001b[1;33m)\u001b[0m\u001b[1;33m\u001b[0m\u001b[1;33m\u001b[0m\u001b[0m\n\u001b[0m\u001b[0;32m     38\u001b[0m \u001b[1;33m\u001b[0m\u001b[0m\n",
      "\u001b[1;32m~\\AppData\\Local\\Temp/ipykernel_23372/2435468955.py\u001b[0m in \u001b[0;36mget_capabilities\u001b[1;34m()\u001b[0m\n\u001b[0;32m     32\u001b[0m         \u001b[1;32mfor\u001b[0m \u001b[0mcapability\u001b[0m \u001b[1;32min\u001b[0m \u001b[0mdevice\u001b[0m\u001b[1;33m.\u001b[0m\u001b[0mserver_capabilities\u001b[0m\u001b[1;33m:\u001b[0m\u001b[1;33m\u001b[0m\u001b[1;33m\u001b[0m\u001b[0m\n\u001b[0;32m     33\u001b[0m             \u001b[0mf\u001b[0m\u001b[1;33m.\u001b[0m\u001b[0mwrite\u001b[0m\u001b[1;33m(\u001b[0m\u001b[0mcapability\u001b[0m \u001b[1;33m+\u001b[0m \u001b[1;34m\"\\n\"\u001b[0m\u001b[1;33m)\u001b[0m\u001b[1;33m\u001b[0m\u001b[1;33m\u001b[0m\u001b[0m\n\u001b[1;32m---> 34\u001b[1;33m         \u001b[0mf\u001b[0m\u001b[1;33m.\u001b[0m\u001b[0mclose\u001b[0m\u001b[1;33m(\u001b[0m\u001b[1;33m)\u001b[0m\u001b[1;33m\u001b[0m\u001b[1;33m\u001b[0m\u001b[0m\n\u001b[0m\u001b[0;32m     35\u001b[0m \u001b[1;33m\u001b[0m\u001b[0m\n\u001b[0;32m     36\u001b[0m \u001b[1;32mif\u001b[0m \u001b[0m__name__\u001b[0m \u001b[1;33m==\u001b[0m \u001b[1;34m\"__main__\"\u001b[0m\u001b[1;33m:\u001b[0m\u001b[1;33m\u001b[0m\u001b[1;33m\u001b[0m\u001b[0m\n",
      "\u001b[1;32mC:\\ProgramData\\Anaconda3\\lib\\site-packages\\ncclient\\manager.py\u001b[0m in \u001b[0;36m__exit__\u001b[1;34m(self, *args)\u001b[0m\n\u001b[0;32m    230\u001b[0m \u001b[1;33m\u001b[0m\u001b[0m\n\u001b[0;32m    231\u001b[0m     \u001b[1;32mdef\u001b[0m \u001b[0m__exit__\u001b[0m\u001b[1;33m(\u001b[0m\u001b[0mself\u001b[0m\u001b[1;33m,\u001b[0m \u001b[1;33m*\u001b[0m\u001b[0margs\u001b[0m\u001b[1;33m)\u001b[0m\u001b[1;33m:\u001b[0m\u001b[1;33m\u001b[0m\u001b[1;33m\u001b[0m\u001b[0m\n\u001b[1;32m--> 232\u001b[1;33m         \u001b[0mself\u001b[0m\u001b[1;33m.\u001b[0m\u001b[0mclose_session\u001b[0m\u001b[1;33m(\u001b[0m\u001b[1;33m)\u001b[0m\u001b[1;33m\u001b[0m\u001b[1;33m\u001b[0m\u001b[0m\n\u001b[0m\u001b[0;32m    233\u001b[0m         \u001b[1;32mreturn\u001b[0m \u001b[1;32mFalse\u001b[0m\u001b[1;33m\u001b[0m\u001b[1;33m\u001b[0m\u001b[0m\n\u001b[0;32m    234\u001b[0m \u001b[1;33m\u001b[0m\u001b[0m\n",
      "\u001b[1;32mC:\\ProgramData\\Anaconda3\\lib\\site-packages\\ncclient\\manager.py\u001b[0m in \u001b[0;36mexecute\u001b[1;34m(self, cls, *args, **kwds)\u001b[0m\n\u001b[0;32m    244\u001b[0m \u001b[1;33m\u001b[0m\u001b[0m\n\u001b[0;32m    245\u001b[0m     \u001b[1;32mdef\u001b[0m \u001b[0mexecute\u001b[0m\u001b[1;33m(\u001b[0m\u001b[0mself\u001b[0m\u001b[1;33m,\u001b[0m \u001b[0mcls\u001b[0m\u001b[1;33m,\u001b[0m \u001b[1;33m*\u001b[0m\u001b[0margs\u001b[0m\u001b[1;33m,\u001b[0m \u001b[1;33m**\u001b[0m\u001b[0mkwds\u001b[0m\u001b[1;33m)\u001b[0m\u001b[1;33m:\u001b[0m\u001b[1;33m\u001b[0m\u001b[1;33m\u001b[0m\u001b[0m\n\u001b[1;32m--> 246\u001b[1;33m         return cls(self._session,\n\u001b[0m\u001b[0;32m    247\u001b[0m                    \u001b[0mdevice_handler\u001b[0m\u001b[1;33m=\u001b[0m\u001b[0mself\u001b[0m\u001b[1;33m.\u001b[0m\u001b[0m_device_handler\u001b[0m\u001b[1;33m,\u001b[0m\u001b[1;33m\u001b[0m\u001b[1;33m\u001b[0m\u001b[0m\n\u001b[0;32m    248\u001b[0m                    \u001b[0masync_mode\u001b[0m\u001b[1;33m=\u001b[0m\u001b[0mself\u001b[0m\u001b[1;33m.\u001b[0m\u001b[0m_async_mode\u001b[0m\u001b[1;33m,\u001b[0m\u001b[1;33m\u001b[0m\u001b[1;33m\u001b[0m\u001b[0m\n",
      "\u001b[1;32mC:\\ProgramData\\Anaconda3\\lib\\site-packages\\ncclient\\operations\\session.py\u001b[0m in \u001b[0;36mrequest\u001b[1;34m(self)\u001b[0m\n\u001b[0;32m     25\u001b[0m     \u001b[1;32mdef\u001b[0m \u001b[0mrequest\u001b[0m\u001b[1;33m(\u001b[0m\u001b[0mself\u001b[0m\u001b[1;33m)\u001b[0m\u001b[1;33m:\u001b[0m\u001b[1;33m\u001b[0m\u001b[1;33m\u001b[0m\u001b[0m\n\u001b[0;32m     26\u001b[0m         \u001b[1;34m\"Request graceful termination of the NETCONF session, and also close the transport.\"\u001b[0m\u001b[1;33m\u001b[0m\u001b[1;33m\u001b[0m\u001b[0m\n\u001b[1;32m---> 27\u001b[1;33m         \u001b[0mret\u001b[0m \u001b[1;33m=\u001b[0m \u001b[0mself\u001b[0m\u001b[1;33m.\u001b[0m\u001b[0m_request\u001b[0m\u001b[1;33m(\u001b[0m\u001b[0mnew_ele\u001b[0m\u001b[1;33m(\u001b[0m\u001b[1;34m\"close-session\"\u001b[0m\u001b[1;33m)\u001b[0m\u001b[1;33m)\u001b[0m\u001b[1;33m\u001b[0m\u001b[1;33m\u001b[0m\u001b[0m\n\u001b[0m\u001b[0;32m     28\u001b[0m         \u001b[0mself\u001b[0m\u001b[1;33m.\u001b[0m\u001b[0msession\u001b[0m\u001b[1;33m.\u001b[0m\u001b[0mclose\u001b[0m\u001b[1;33m(\u001b[0m\u001b[1;33m)\u001b[0m\u001b[1;33m\u001b[0m\u001b[1;33m\u001b[0m\u001b[0m\n\u001b[0;32m     29\u001b[0m         \u001b[1;32mreturn\u001b[0m \u001b[0mret\u001b[0m\u001b[1;33m\u001b[0m\u001b[1;33m\u001b[0m\u001b[0m\n",
      "\u001b[1;32mC:\\ProgramData\\Anaconda3\\lib\\site-packages\\ncclient\\operations\\rpc.py\u001b[0m in \u001b[0;36m_request\u001b[1;34m(self, op)\u001b[0m\n\u001b[0;32m    362\u001b[0m                 \u001b[1;32mif\u001b[0m \u001b[0mself\u001b[0m\u001b[1;33m.\u001b[0m\u001b[0m_error\u001b[0m\u001b[1;33m:\u001b[0m\u001b[1;33m\u001b[0m\u001b[1;33m\u001b[0m\u001b[0m\n\u001b[0;32m    363\u001b[0m                     \u001b[1;31m# Error that prevented reply delivery\u001b[0m\u001b[1;33m\u001b[0m\u001b[1;33m\u001b[0m\u001b[1;33m\u001b[0m\u001b[0m\n\u001b[1;32m--> 364\u001b[1;33m                     \u001b[1;32mraise\u001b[0m \u001b[0mself\u001b[0m\u001b[1;33m.\u001b[0m\u001b[0m_error\u001b[0m\u001b[1;33m\u001b[0m\u001b[1;33m\u001b[0m\u001b[0m\n\u001b[0m\u001b[0;32m    365\u001b[0m                 \u001b[0mself\u001b[0m\u001b[1;33m.\u001b[0m\u001b[0m_reply\u001b[0m\u001b[1;33m.\u001b[0m\u001b[0mparse\u001b[0m\u001b[1;33m(\u001b[0m\u001b[1;33m)\u001b[0m\u001b[1;33m\u001b[0m\u001b[1;33m\u001b[0m\u001b[0m\n\u001b[0;32m    366\u001b[0m                 \u001b[1;32mif\u001b[0m \u001b[0mself\u001b[0m\u001b[1;33m.\u001b[0m\u001b[0m_reply\u001b[0m\u001b[1;33m.\u001b[0m\u001b[0merror\u001b[0m \u001b[1;32mis\u001b[0m \u001b[1;32mnot\u001b[0m \u001b[1;32mNone\u001b[0m \u001b[1;32mand\u001b[0m \u001b[1;32mnot\u001b[0m \u001b[0mself\u001b[0m\u001b[1;33m.\u001b[0m\u001b[0m_device_handler\u001b[0m\u001b[1;33m.\u001b[0m\u001b[0mis_rpc_error_exempt\u001b[0m\u001b[1;33m(\u001b[0m\u001b[0mself\u001b[0m\u001b[1;33m.\u001b[0m\u001b[0m_reply\u001b[0m\u001b[1;33m.\u001b[0m\u001b[0merror\u001b[0m\u001b[1;33m.\u001b[0m\u001b[0mmessage\u001b[0m\u001b[1;33m)\u001b[0m\u001b[1;33m:\u001b[0m\u001b[1;33m\u001b[0m\u001b[1;33m\u001b[0m\u001b[0m\n",
      "\u001b[1;32mC:\\ProgramData\\Anaconda3\\lib\\site-packages\\ncclient\\transport\\ssh.py\u001b[0m in \u001b[0;36mrun\u001b[1;34m(self)\u001b[0m\n\u001b[0;32m    498\u001b[0m                     \u001b[1;32melse\u001b[0m\u001b[1;33m:\u001b[0m\u001b[1;33m\u001b[0m\u001b[1;33m\u001b[0m\u001b[0m\n\u001b[0;32m    499\u001b[0m                         \u001b[1;31m# End of session, unexpected\u001b[0m\u001b[1;33m\u001b[0m\u001b[1;33m\u001b[0m\u001b[1;33m\u001b[0m\u001b[0m\n\u001b[1;32m--> 500\u001b[1;33m                         \u001b[1;32mraise\u001b[0m \u001b[0mSessionCloseError\u001b[0m\u001b[1;33m(\u001b[0m\u001b[0mself\u001b[0m\u001b[1;33m.\u001b[0m\u001b[0m_buffer\u001b[0m\u001b[1;33m.\u001b[0m\u001b[0mgetvalue\u001b[0m\u001b[1;33m(\u001b[0m\u001b[1;33m)\u001b[0m\u001b[1;33m)\u001b[0m\u001b[1;33m\u001b[0m\u001b[1;33m\u001b[0m\u001b[0m\n\u001b[0m\u001b[0;32m    501\u001b[0m                 \u001b[1;32mif\u001b[0m \u001b[1;32mnot\u001b[0m \u001b[0mq\u001b[0m\u001b[1;33m.\u001b[0m\u001b[0mempty\u001b[0m\u001b[1;33m(\u001b[0m\u001b[1;33m)\u001b[0m \u001b[1;32mand\u001b[0m \u001b[0mchan\u001b[0m\u001b[1;33m.\u001b[0m\u001b[0msend_ready\u001b[0m\u001b[1;33m(\u001b[0m\u001b[1;33m)\u001b[0m\u001b[1;33m:\u001b[0m\u001b[1;33m\u001b[0m\u001b[1;33m\u001b[0m\u001b[0m\n\u001b[0;32m    502\u001b[0m                     \u001b[0mself\u001b[0m\u001b[1;33m.\u001b[0m\u001b[0mlogger\u001b[0m\u001b[1;33m.\u001b[0m\u001b[0mdebug\u001b[0m\u001b[1;33m(\u001b[0m\u001b[1;34m\"Sending message\"\u001b[0m\u001b[1;33m)\u001b[0m\u001b[1;33m\u001b[0m\u001b[1;33m\u001b[0m\u001b[0m\n",
      "\u001b[1;31mSessionCloseError\u001b[0m: Unexpected session close"
     ]
    }
   ],
   "source": [
    "# Get the capabilities of a remote device with NETCONF\n",
    "# Sandbox from: \n",
    "# https://devnetsandbox.cisco.com/RM/Diagram/Index/dae38dd8-e8ee-4d7c-a21c-6036bed7a804?diagramType=Topology\n",
    "\n",
    "from ncclient import manager\n",
    "\n",
    "NXOS_HOST = \"sandbox-nxos-1.cisco.com\"\n",
    "NETCONF_PORT = \"830\"\n",
    "USERNAME = \"admin\"\n",
    "PASSWORD = \"Admin_1234!\"\n",
    "\n",
    "# create a get_capabilities() method\n",
    "def get_capabilities():\n",
    "    \"\"\"\n",
    "    Method that prints NETCONF capabilities of remote device.\n",
    "    \"\"\"\n",
    "    with manager.connect(\n",
    "        host = NXOS_HOST,\n",
    "        port = NETCONF_PORT,\n",
    "        username = USERNAME,\n",
    "        password = PASSWORD,\n",
    "        hostkey_verify = False\n",
    "        ) as device:\n",
    "\n",
    "        # print all NETCONF capabilities\n",
    "        print(\"\\n***NETCONF Capabilities for device {}***\\n\".format(NXOS_HOST))\n",
    "        for capability in device.server_capabilities:\n",
    "            print(capability)\n",
    "\n",
    "        f=open(\"NXOS.capabilities.txt\",\"w\")\n",
    "        f.write(\"\\n***NETCONF Capabilities for device {}***\\n\".format(NXOS_HOST))\n",
    "        for capability in device.server_capabilities:\n",
    "            f.write(capability + \"\\n\")\n",
    "        f.close()\n",
    "\n",
    "if __name__ == \"__main__\":\n",
    "    get_capabilities()\n",
    "\n"
   ]
  }
 ],
 "metadata": {
  "interpreter": {
   "hash": "b3ba2566441a7c06988d0923437866b63cedc61552a5af99d1f4fb67d367b25f"
  },
  "kernelspec": {
   "display_name": "Python 3.8.11 64-bit ('base': conda)",
   "name": "python3"
  },
  "language_info": {
   "codemirror_mode": {
    "name": "ipython",
    "version": 3
   },
   "file_extension": ".py",
   "mimetype": "text/x-python",
   "name": "python",
   "nbconvert_exporter": "python",
   "pygments_lexer": "ipython3",
   "version": "3.8.11"
  },
  "orig_nbformat": 4
 },
 "nbformat": 4,
 "nbformat_minor": 2
}
