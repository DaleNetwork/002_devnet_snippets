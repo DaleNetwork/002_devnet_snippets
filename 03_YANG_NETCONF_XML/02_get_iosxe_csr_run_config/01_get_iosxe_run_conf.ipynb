{
 "cells": [
  {
   "cell_type": "code",
   "execution_count": 2,
   "metadata": {},
   "outputs": [
    {
     "name": "stdout",
     "output_type": "stream",
     "text": [
      "\n",
      "***NETCONF running config for device sandbox-iosxe-latest-1.cisco.com***\n",
      "\n"
     ]
    },
    {
     "ename": "RPCError",
     "evalue": "{'type': 'protocol', 'tag': 'unknown-element', 'app_tag': None, 'severity': 'error', 'info': '<?xml version=\"1.0\" encoding=\"UTF-8\"?><error-info xmlns=\"urn:ietf:params:xml:ns:netconf:base:1.0\" xmlns:nc=\"urn:ietf:params:xml:ns:netconf:base:1.0\"><bad-element>startup-config</bad-element>\\n</error-info>\\n</rpc-error>\\n</rpc-reply>\\n', 'path': '\\n    /rpc/get-config/source\\n  ', 'message': None}",
     "output_type": "error",
     "traceback": [
      "\u001b[1;31m---------------------------------------------------------------------------\u001b[0m",
      "\u001b[1;31mRPCError\u001b[0m                                  Traceback (most recent call last)",
      "\u001b[1;32m~\\AppData\\Local\\Temp/ipykernel_30740/2823172636.py\u001b[0m in \u001b[0;36m<module>\u001b[1;34m\u001b[0m\n\u001b[0;32m     61\u001b[0m \u001b[1;33m\u001b[0m\u001b[0m\n\u001b[0;32m     62\u001b[0m \u001b[1;31m# if __name__ == \"__main__\":\u001b[0m\u001b[1;33m\u001b[0m\u001b[1;33m\u001b[0m\u001b[1;33m\u001b[0m\u001b[0m\n\u001b[1;32m---> 63\u001b[1;33m \u001b[0mget_run_config\u001b[0m\u001b[1;33m(\u001b[0m\u001b[0mNXOS_HOST\u001b[0m\u001b[1;33m,\u001b[0m \u001b[0mNETCONF_PORT\u001b[0m\u001b[1;33m,\u001b[0m \u001b[0mUSERNAME\u001b[0m\u001b[1;33m,\u001b[0m \u001b[0mPASSWORD\u001b[0m\u001b[1;33m)\u001b[0m\u001b[1;33m\u001b[0m\u001b[1;33m\u001b[0m\u001b[0m\n\u001b[0m",
      "\u001b[1;32m~\\AppData\\Local\\Temp/ipykernel_30740/2823172636.py\u001b[0m in \u001b[0;36mget_run_config\u001b[1;34m(host, port, user, password)\u001b[0m\n\u001b[0;32m     44\u001b[0m \u001b[1;33m\u001b[0m\u001b[0m\n\u001b[0;32m     45\u001b[0m         \u001b[1;31m# result = device.get_config(\"running\", hostname_filter)\u001b[0m\u001b[1;33m\u001b[0m\u001b[1;33m\u001b[0m\u001b[1;33m\u001b[0m\u001b[0m\n\u001b[1;32m---> 46\u001b[1;33m         \u001b[0mresult\u001b[0m \u001b[1;33m=\u001b[0m \u001b[0mdevice\u001b[0m\u001b[1;33m.\u001b[0m\u001b[0mget_config\u001b[0m\u001b[1;33m(\u001b[0m\u001b[1;34m\"startup-config\"\u001b[0m\u001b[1;33m,\u001b[0m \u001b[0mhostname_filter\u001b[0m\u001b[1;33m)\u001b[0m\u001b[1;33m\u001b[0m\u001b[1;33m\u001b[0m\u001b[0m\n\u001b[0m\u001b[0;32m     47\u001b[0m         \u001b[1;31m# print(str(result))\u001b[0m\u001b[1;33m\u001b[0m\u001b[1;33m\u001b[0m\u001b[1;33m\u001b[0m\u001b[0m\n\u001b[0;32m     48\u001b[0m         \u001b[0mxmlDom\u001b[0m \u001b[1;33m=\u001b[0m \u001b[0mxml\u001b[0m\u001b[1;33m.\u001b[0m\u001b[0mdom\u001b[0m\u001b[1;33m.\u001b[0m\u001b[0mminidom\u001b[0m\u001b[1;33m.\u001b[0m\u001b[0mparseString\u001b[0m\u001b[1;33m(\u001b[0m \u001b[0mstr\u001b[0m\u001b[1;33m(\u001b[0m\u001b[0mresult\u001b[0m\u001b[1;33m)\u001b[0m\u001b[1;33m)\u001b[0m\u001b[1;33m\u001b[0m\u001b[1;33m\u001b[0m\u001b[0m\n",
      "\u001b[1;32mC:\\ProgramData\\Anaconda3\\lib\\site-packages\\ncclient\\manager.py\u001b[0m in \u001b[0;36mexecute\u001b[1;34m(self, cls, *args, **kwds)\u001b[0m\n\u001b[0;32m    244\u001b[0m \u001b[1;33m\u001b[0m\u001b[0m\n\u001b[0;32m    245\u001b[0m     \u001b[1;32mdef\u001b[0m \u001b[0mexecute\u001b[0m\u001b[1;33m(\u001b[0m\u001b[0mself\u001b[0m\u001b[1;33m,\u001b[0m \u001b[0mcls\u001b[0m\u001b[1;33m,\u001b[0m \u001b[1;33m*\u001b[0m\u001b[0margs\u001b[0m\u001b[1;33m,\u001b[0m \u001b[1;33m**\u001b[0m\u001b[0mkwds\u001b[0m\u001b[1;33m)\u001b[0m\u001b[1;33m:\u001b[0m\u001b[1;33m\u001b[0m\u001b[1;33m\u001b[0m\u001b[0m\n\u001b[1;32m--> 246\u001b[1;33m         return cls(self._session,\n\u001b[0m\u001b[0;32m    247\u001b[0m                    \u001b[0mdevice_handler\u001b[0m\u001b[1;33m=\u001b[0m\u001b[0mself\u001b[0m\u001b[1;33m.\u001b[0m\u001b[0m_device_handler\u001b[0m\u001b[1;33m,\u001b[0m\u001b[1;33m\u001b[0m\u001b[1;33m\u001b[0m\u001b[0m\n\u001b[0;32m    248\u001b[0m                    \u001b[0masync_mode\u001b[0m\u001b[1;33m=\u001b[0m\u001b[0mself\u001b[0m\u001b[1;33m.\u001b[0m\u001b[0m_async_mode\u001b[0m\u001b[1;33m,\u001b[0m\u001b[1;33m\u001b[0m\u001b[1;33m\u001b[0m\u001b[0m\n",
      "\u001b[1;32mC:\\ProgramData\\Anaconda3\\lib\\site-packages\\ncclient\\operations\\retrieve.py\u001b[0m in \u001b[0;36mrequest\u001b[1;34m(self, source, filter, with_defaults)\u001b[0m\n\u001b[0;32m    164\u001b[0m                 \u001b[0mself\u001b[0m\u001b[1;33m.\u001b[0m\u001b[0m_session\u001b[0m\u001b[1;33m.\u001b[0m\u001b[0mserver_capabilities\u001b[0m\u001b[1;33m,\u001b[0m\u001b[1;33m\u001b[0m\u001b[1;33m\u001b[0m\u001b[0m\n\u001b[0;32m    165\u001b[0m             )\n\u001b[1;32m--> 166\u001b[1;33m         \u001b[1;32mreturn\u001b[0m \u001b[0mself\u001b[0m\u001b[1;33m.\u001b[0m\u001b[0m_request\u001b[0m\u001b[1;33m(\u001b[0m\u001b[0mnode\u001b[0m\u001b[1;33m)\u001b[0m\u001b[1;33m\u001b[0m\u001b[1;33m\u001b[0m\u001b[0m\n\u001b[0m\u001b[0;32m    167\u001b[0m \u001b[1;33m\u001b[0m\u001b[0m\n\u001b[0;32m    168\u001b[0m \u001b[1;32mclass\u001b[0m \u001b[0mGetSchema\u001b[0m\u001b[1;33m(\u001b[0m\u001b[0mRPC\u001b[0m\u001b[1;33m)\u001b[0m\u001b[1;33m:\u001b[0m\u001b[1;33m\u001b[0m\u001b[1;33m\u001b[0m\u001b[0m\n",
      "\u001b[1;32mC:\\ProgramData\\Anaconda3\\lib\\site-packages\\ncclient\\operations\\rpc.py\u001b[0m in \u001b[0;36m_request\u001b[1;34m(self, op)\u001b[0m\n\u001b[0;32m    373\u001b[0m                             \u001b[1;32mraise\u001b[0m \u001b[0mRPCError\u001b[0m\u001b[1;33m(\u001b[0m\u001b[0mto_ele\u001b[0m\u001b[1;33m(\u001b[0m\u001b[0mself\u001b[0m\u001b[1;33m.\u001b[0m\u001b[0m_reply\u001b[0m\u001b[1;33m.\u001b[0m\u001b[0m_raw\u001b[0m\u001b[1;33m)\u001b[0m\u001b[1;33m,\u001b[0m \u001b[0merrs\u001b[0m\u001b[1;33m=\u001b[0m\u001b[0merrors\u001b[0m\u001b[1;33m)\u001b[0m\u001b[1;33m\u001b[0m\u001b[1;33m\u001b[0m\u001b[0m\n\u001b[0;32m    374\u001b[0m                         \u001b[1;32melse\u001b[0m\u001b[1;33m:\u001b[0m\u001b[1;33m\u001b[0m\u001b[1;33m\u001b[0m\u001b[0m\n\u001b[1;32m--> 375\u001b[1;33m                             \u001b[1;32mraise\u001b[0m \u001b[0mself\u001b[0m\u001b[1;33m.\u001b[0m\u001b[0m_reply\u001b[0m\u001b[1;33m.\u001b[0m\u001b[0merror\u001b[0m\u001b[1;33m\u001b[0m\u001b[1;33m\u001b[0m\u001b[0m\n\u001b[0m\u001b[0;32m    376\u001b[0m                 \u001b[1;32mif\u001b[0m \u001b[0mself\u001b[0m\u001b[1;33m.\u001b[0m\u001b[0m_device_handler\u001b[0m\u001b[1;33m.\u001b[0m\u001b[0mtransform_reply\u001b[0m\u001b[1;33m(\u001b[0m\u001b[1;33m)\u001b[0m\u001b[1;33m:\u001b[0m\u001b[1;33m\u001b[0m\u001b[1;33m\u001b[0m\u001b[0m\n\u001b[0;32m    377\u001b[0m                     \u001b[1;32mreturn\u001b[0m \u001b[0mNCElement\u001b[0m\u001b[1;33m(\u001b[0m\u001b[0mself\u001b[0m\u001b[1;33m.\u001b[0m\u001b[0m_reply\u001b[0m\u001b[1;33m,\u001b[0m \u001b[0mself\u001b[0m\u001b[1;33m.\u001b[0m\u001b[0m_device_handler\u001b[0m\u001b[1;33m.\u001b[0m\u001b[0mtransform_reply\u001b[0m\u001b[1;33m(\u001b[0m\u001b[1;33m)\u001b[0m\u001b[1;33m,\u001b[0m \u001b[0mhuge_tree\u001b[0m\u001b[1;33m=\u001b[0m\u001b[0mself\u001b[0m\u001b[1;33m.\u001b[0m\u001b[0m_huge_tree\u001b[0m\u001b[1;33m)\u001b[0m\u001b[1;33m\u001b[0m\u001b[1;33m\u001b[0m\u001b[0m\n",
      "\u001b[1;31mRPCError\u001b[0m: {'type': 'protocol', 'tag': 'unknown-element', 'app_tag': None, 'severity': 'error', 'info': '<?xml version=\"1.0\" encoding=\"UTF-8\"?><error-info xmlns=\"urn:ietf:params:xml:ns:netconf:base:1.0\" xmlns:nc=\"urn:ietf:params:xml:ns:netconf:base:1.0\"><bad-element>startup-config</bad-element>\\n</error-info>\\n</rpc-error>\\n</rpc-reply>\\n', 'path': '\\n    /rpc/get-config/source\\n  ', 'message': None}"
     ]
    }
   ],
   "source": [
    "# Get the running_config of a remote device with NETCONF\n",
    "# Sandbox from: \n",
    "# https://devnetsandbox.cisco.com/RM/Diagram/Index/7b4d4209-a17c-4bc3-9b38-f15184e53a94?diagramType=Topology for latest sandbox\n",
    "\n",
    "# reference from github: \n",
    "# https://github.com/CiscoDevNet/python_code_samples_network/blob/master/NC-get-config/NC-get-config.py\n",
    "\n",
    "# This script retrieves entire configuration from a network element via NETCONF\n",
    "# prints it out in a \"pretty\" XML tree.\n",
    "\n",
    "from ncclient import manager\n",
    "import xml.dom.minidom\n",
    "\n",
    "NXOS_HOST = \"sandbox-iosxe-latest-1.cisco.com\"\n",
    "NETCONF_PORT = \"830\"\n",
    "USERNAME = \"developer\"\n",
    "PASSWORD = \"C1sco12345\"\n",
    "\n",
    "# create a get_capabilities() method\n",
    "def get_run_config(host, port, user, password):\n",
    "    \"\"\"\n",
    "    Method that prints  running config of remote device.\n",
    "    \"\"\"\n",
    "    with manager.connect(\n",
    "        host = host,\n",
    "        port = port,\n",
    "        username = user,\n",
    "        password = password,\n",
    "        # hostkey_verify = False,\n",
    "        device_params={'name':'csr'}\n",
    "        ) as device:\n",
    "        hostname_filter = '''\n",
    "                      <filter xmlns=\"urn:ietf:params:xml:ns:netconf:base:1.0\">\n",
    "                          <native xmlns=\"http://cisco.com/ns/yang/Cisco-IOS-XE-native\">\n",
    "                          </native>\n",
    "                      </filter>\n",
    "                      '''\n",
    "        # print all NETCONF capabilities\n",
    "\n",
    "        print(\"\\n***NETCONF running config for device {}***\\n\".format(host))\n",
    "\n",
    "        # for capability in device.server_capabilities:\n",
    "        #     print(capability)\n",
    "\n",
    "        # result = device.get_config(\"running\", hostname_filter)\n",
    "        result = device.get_config(\"startup\", hostname_filter)\n",
    "        # print(str(result))\n",
    "        xmlDom = xml.dom.minidom.parseString( str(result))\n",
    "        print(xmlDom.toprettyxml( indent = \"  \" ))\n",
    "        # result = device.server_capabilities\n",
    "        # print(type(result))\n",
    "        # print(result)\n",
    "        # # for capability in device.server_capabilities:\n",
    "        #     print(capability)\n",
    "\n",
    "        # f=open(\"NXOS.capabilities.txt\",\"w\")\n",
    "        # f.write(\"\\n***NETCONF Capabilities for device {}***\\n\".format(NXOS_HOST))\n",
    "        # for capability in device.server_capabilities:\n",
    "        #     f.write(capability + \"\\n\")\n",
    "        # f.close()\n",
    "\n",
    "# if __name__ == \"__main__\":\n",
    "get_run_config(NXOS_HOST, NETCONF_PORT, USERNAME, PASSWORD)\n"
   ]
  }
 ],
 "metadata": {
  "interpreter": {
   "hash": "b3ba2566441a7c06988d0923437866b63cedc61552a5af99d1f4fb67d367b25f"
  },
  "kernelspec": {
   "display_name": "Python 3.8.11 64-bit ('base': conda)",
   "name": "python3"
  },
  "language_info": {
   "codemirror_mode": {
    "name": "ipython",
    "version": 3
   },
   "file_extension": ".py",
   "mimetype": "text/x-python",
   "name": "python",
   "nbconvert_exporter": "python",
   "pygments_lexer": "ipython3",
   "version": "3.8.11"
  },
  "orig_nbformat": 4
 },
 "nbformat": 4,
 "nbformat_minor": 2
}
